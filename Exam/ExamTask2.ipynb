{
 "cells": [
  {
   "cell_type": "code",
   "execution_count": 19,
   "outputs": [
    {
     "name": "stdout",
     "output_type": "stream",
     "text": [
      "Accuracy score:  0.7500649519355677\n",
      "              precision    recall  f1-score   support\n",
      "\n",
      "   completed       0.74      0.44      0.55      1345\n",
      "        none       0.75      0.92      0.83      2504\n",
      "\n",
      "    accuracy                           0.75      3849\n",
      "   macro avg       0.75      0.68      0.69      3849\n",
      "weighted avg       0.75      0.75      0.73      3849\n",
      "\n"
     ]
    }
   ],
   "source": [
    "import pandas as pd\n",
    "from sklearn.preprocessing import LabelEncoder, OneHotEncoder, StandardScaler\n",
    "from sklearn.model_selection import train_test_split\n",
    "from sklearn.ensemble import RandomForestClassifier, GradientBoostingClassifier\n",
    "from sklearn.metrics import accuracy_score, classification_report\n",
    "\n",
    "data = pd.read_csv('Expanded_data_with_more_features.csv')\n",
    "\n",
    "data = data.dropna()\n",
    "\n",
    "data['IsFirstChild'] = LabelEncoder().fit_transform(data['IsFirstChild'])\n",
    "data['TransportMeans'] = LabelEncoder().fit_transform(data['TransportMeans'])\n",
    "data['WklyStudyHours'] = LabelEncoder().fit_transform(data['WklyStudyHours'])\n",
    "\n",
    "categorical_features = ['Gender', 'EthnicGroup', 'ParentEduc', 'LunchType', 'ParentMaritalStatus', 'PracticeSport']\n",
    "data_encoded = pd.get_dummies(data, columns=categorical_features)\n",
    "\n",
    "X = data_encoded.drop(['TestPrep'], axis=1)\n",
    "y = data_encoded['TestPrep']\n",
    "X_train, X_test, y_train, y_test = train_test_split(X, y, test_size=0.2, random_state=69)\n",
    "\n",
    "scaler = StandardScaler()\n",
    "X_train = scaler.fit_transform(X_train)\n",
    "X_test = scaler.transform(X_test)\n",
    "\n",
    "clf = GradientBoostingClassifier(random_state=69)\n",
    "clf.fit(X_train, y_train)\n",
    "y_pred = clf.predict(X_test)\n",
    "\n",
    "print(\"Accuracy score: \", accuracy_score(y_test, y_pred))\n",
    "print(classification_report(y_test, y_pred))"
   ],
   "metadata": {
    "collapsed": false,
    "pycharm": {
     "name": "#%%\n"
    }
   }
  },
  {
   "cell_type": "code",
   "execution_count": null,
   "outputs": [],
   "source": [],
   "metadata": {
    "collapsed": false,
    "pycharm": {
     "name": "#%%\n"
    }
   }
  }
 ],
 "metadata": {
  "kernelspec": {
   "display_name": "Python 3",
   "language": "python",
   "name": "python3"
  },
  "language_info": {
   "codemirror_mode": {
    "name": "ipython",
    "version": 2
   },
   "file_extension": ".py",
   "mimetype": "text/x-python",
   "name": "python",
   "nbconvert_exporter": "python",
   "pygments_lexer": "ipython2",
   "version": "2.7.6"
  }
 },
 "nbformat": 4,
 "nbformat_minor": 0
}