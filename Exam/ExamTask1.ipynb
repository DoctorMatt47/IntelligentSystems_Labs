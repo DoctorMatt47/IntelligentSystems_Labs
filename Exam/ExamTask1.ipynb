{
 "cells": [
  {
   "cell_type": "markdown",
   "source": [
    "# Гольцев Матвій"
   ],
   "metadata": {
    "collapsed": false,
    "pycharm": {
     "name": "#%% md\n"
    }
   }
  },
  {
   "cell_type": "code",
   "execution_count": 22,
   "outputs": [],
   "source": [
    "import pandas as pd"
   ],
   "metadata": {
    "collapsed": false,
    "pycharm": {
     "name": "#%%\n"
    }
   }
  },
  {
   "cell_type": "code",
   "execution_count": 23,
   "outputs": [
    {
     "data": {
      "text/plain": "       Unnamed: 0  Gender EthnicGroup          ParentEduc     LunchType   \n0               0  female         NaN   bachelor's degree      standard  \\\n1               1  female     group C        some college      standard   \n2               2  female     group B     master's degree      standard   \n3               3    male     group A  associate's degree  free/reduced   \n4               4    male     group C        some college      standard   \n...           ...     ...         ...                 ...           ...   \n30636         816  female     group D         high school      standard   \n30637         890    male     group E         high school      standard   \n30638         911  female         NaN         high school  free/reduced   \n30639         934  female     group D  associate's degree      standard   \n30640         960    male     group B        some college      standard   \n\n        TestPrep ParentMaritalStatus PracticeSport IsFirstChild  NrSiblings   \n0           none             married     regularly          yes         3.0  \\\n1            NaN             married     sometimes          yes         0.0   \n2           none              single     sometimes          yes         4.0   \n3           none             married         never           no         1.0   \n4           none             married     sometimes          yes         0.0   \n...          ...                 ...           ...          ...         ...   \n30636       none              single     sometimes           no         2.0   \n30637       none              single     regularly           no         1.0   \n30638  completed             married     sometimes           no         1.0   \n30639  completed             married     regularly           no         3.0   \n30640       none             married         never           no         1.0   \n\n      TransportMeans WklyStudyHours  MathScore  ReadingScore  WritingScore  \n0         school_bus            < 5         71            71            74  \n1                NaN         5 - 10         69            90            88  \n2         school_bus            < 5         87            93            91  \n3                NaN         5 - 10         45            56            42  \n4         school_bus         5 - 10         76            78            75  \n...              ...            ...        ...           ...           ...  \n30636     school_bus         5 - 10         59            61            65  \n30637        private         5 - 10         58            53            51  \n30638        private         5 - 10         61            70            67  \n30639     school_bus         5 - 10         82            90            93  \n30640     school_bus         5 - 10         64            60            58  \n\n[30641 rows x 15 columns]",
      "text/html": "<div>\n<style scoped>\n    .dataframe tbody tr th:only-of-type {\n        vertical-align: middle;\n    }\n\n    .dataframe tbody tr th {\n        vertical-align: top;\n    }\n\n    .dataframe thead th {\n        text-align: right;\n    }\n</style>\n<table border=\"1\" class=\"dataframe\">\n  <thead>\n    <tr style=\"text-align: right;\">\n      <th></th>\n      <th>Unnamed: 0</th>\n      <th>Gender</th>\n      <th>EthnicGroup</th>\n      <th>ParentEduc</th>\n      <th>LunchType</th>\n      <th>TestPrep</th>\n      <th>ParentMaritalStatus</th>\n      <th>PracticeSport</th>\n      <th>IsFirstChild</th>\n      <th>NrSiblings</th>\n      <th>TransportMeans</th>\n      <th>WklyStudyHours</th>\n      <th>MathScore</th>\n      <th>ReadingScore</th>\n      <th>WritingScore</th>\n    </tr>\n  </thead>\n  <tbody>\n    <tr>\n      <th>0</th>\n      <td>0</td>\n      <td>female</td>\n      <td>NaN</td>\n      <td>bachelor's degree</td>\n      <td>standard</td>\n      <td>none</td>\n      <td>married</td>\n      <td>regularly</td>\n      <td>yes</td>\n      <td>3.0</td>\n      <td>school_bus</td>\n      <td>&lt; 5</td>\n      <td>71</td>\n      <td>71</td>\n      <td>74</td>\n    </tr>\n    <tr>\n      <th>1</th>\n      <td>1</td>\n      <td>female</td>\n      <td>group C</td>\n      <td>some college</td>\n      <td>standard</td>\n      <td>NaN</td>\n      <td>married</td>\n      <td>sometimes</td>\n      <td>yes</td>\n      <td>0.0</td>\n      <td>NaN</td>\n      <td>5 - 10</td>\n      <td>69</td>\n      <td>90</td>\n      <td>88</td>\n    </tr>\n    <tr>\n      <th>2</th>\n      <td>2</td>\n      <td>female</td>\n      <td>group B</td>\n      <td>master's degree</td>\n      <td>standard</td>\n      <td>none</td>\n      <td>single</td>\n      <td>sometimes</td>\n      <td>yes</td>\n      <td>4.0</td>\n      <td>school_bus</td>\n      <td>&lt; 5</td>\n      <td>87</td>\n      <td>93</td>\n      <td>91</td>\n    </tr>\n    <tr>\n      <th>3</th>\n      <td>3</td>\n      <td>male</td>\n      <td>group A</td>\n      <td>associate's degree</td>\n      <td>free/reduced</td>\n      <td>none</td>\n      <td>married</td>\n      <td>never</td>\n      <td>no</td>\n      <td>1.0</td>\n      <td>NaN</td>\n      <td>5 - 10</td>\n      <td>45</td>\n      <td>56</td>\n      <td>42</td>\n    </tr>\n    <tr>\n      <th>4</th>\n      <td>4</td>\n      <td>male</td>\n      <td>group C</td>\n      <td>some college</td>\n      <td>standard</td>\n      <td>none</td>\n      <td>married</td>\n      <td>sometimes</td>\n      <td>yes</td>\n      <td>0.0</td>\n      <td>school_bus</td>\n      <td>5 - 10</td>\n      <td>76</td>\n      <td>78</td>\n      <td>75</td>\n    </tr>\n    <tr>\n      <th>...</th>\n      <td>...</td>\n      <td>...</td>\n      <td>...</td>\n      <td>...</td>\n      <td>...</td>\n      <td>...</td>\n      <td>...</td>\n      <td>...</td>\n      <td>...</td>\n      <td>...</td>\n      <td>...</td>\n      <td>...</td>\n      <td>...</td>\n      <td>...</td>\n      <td>...</td>\n    </tr>\n    <tr>\n      <th>30636</th>\n      <td>816</td>\n      <td>female</td>\n      <td>group D</td>\n      <td>high school</td>\n      <td>standard</td>\n      <td>none</td>\n      <td>single</td>\n      <td>sometimes</td>\n      <td>no</td>\n      <td>2.0</td>\n      <td>school_bus</td>\n      <td>5 - 10</td>\n      <td>59</td>\n      <td>61</td>\n      <td>65</td>\n    </tr>\n    <tr>\n      <th>30637</th>\n      <td>890</td>\n      <td>male</td>\n      <td>group E</td>\n      <td>high school</td>\n      <td>standard</td>\n      <td>none</td>\n      <td>single</td>\n      <td>regularly</td>\n      <td>no</td>\n      <td>1.0</td>\n      <td>private</td>\n      <td>5 - 10</td>\n      <td>58</td>\n      <td>53</td>\n      <td>51</td>\n    </tr>\n    <tr>\n      <th>30638</th>\n      <td>911</td>\n      <td>female</td>\n      <td>NaN</td>\n      <td>high school</td>\n      <td>free/reduced</td>\n      <td>completed</td>\n      <td>married</td>\n      <td>sometimes</td>\n      <td>no</td>\n      <td>1.0</td>\n      <td>private</td>\n      <td>5 - 10</td>\n      <td>61</td>\n      <td>70</td>\n      <td>67</td>\n    </tr>\n    <tr>\n      <th>30639</th>\n      <td>934</td>\n      <td>female</td>\n      <td>group D</td>\n      <td>associate's degree</td>\n      <td>standard</td>\n      <td>completed</td>\n      <td>married</td>\n      <td>regularly</td>\n      <td>no</td>\n      <td>3.0</td>\n      <td>school_bus</td>\n      <td>5 - 10</td>\n      <td>82</td>\n      <td>90</td>\n      <td>93</td>\n    </tr>\n    <tr>\n      <th>30640</th>\n      <td>960</td>\n      <td>male</td>\n      <td>group B</td>\n      <td>some college</td>\n      <td>standard</td>\n      <td>none</td>\n      <td>married</td>\n      <td>never</td>\n      <td>no</td>\n      <td>1.0</td>\n      <td>school_bus</td>\n      <td>5 - 10</td>\n      <td>64</td>\n      <td>60</td>\n      <td>58</td>\n    </tr>\n  </tbody>\n</table>\n<p>30641 rows × 15 columns</p>\n</div>"
     },
     "execution_count": 23,
     "metadata": {},
     "output_type": "execute_result"
    }
   ],
   "source": [
    "table = pd.read_csv('Expanded_data_with_more_features.csv')\n",
    "table"
   ],
   "metadata": {
    "collapsed": false,
    "pycharm": {
     "name": "#%%\n"
    }
   }
  },
  {
   "cell_type": "markdown",
   "source": [
    "# 1. Скільки студентів і студенток у наборі даних?"
   ],
   "metadata": {
    "collapsed": false,
    "pycharm": {
     "name": "#%% md\n"
    }
   }
  },
  {
   "cell_type": "code",
   "execution_count": 24,
   "outputs": [
    {
     "data": {
      "text/plain": "Gender\nfemale    15424\nmale      15217\nName: Unnamed: 0, dtype: int64"
     },
     "execution_count": 24,
     "metadata": {},
     "output_type": "execute_result"
    }
   ],
   "source": [
    "gender_counts = table.groupby('Gender').count()\n",
    "gender_counts['Unnamed: 0']"
   ],
   "metadata": {
    "collapsed": false,
    "pycharm": {
     "name": "#%%\n"
    }
   }
  },
  {
   "cell_type": "markdown",
   "source": [
    "# 2. Який відсоток студентів чоловічої статі в наборі даних?"
   ],
   "metadata": {
    "collapsed": false,
    "pycharm": {
     "name": "#%% md\n"
    }
   }
  },
  {
   "cell_type": "code",
   "execution_count": 25,
   "outputs": [
    {
     "data": {
      "text/plain": "'Male percentage: 49.6622172905584%'"
     },
     "execution_count": 25,
     "metadata": {},
     "output_type": "execute_result"
    }
   ],
   "source": [
    "male_percentage = (gender_counts.loc['male', 'Unnamed: 0'] / gender_counts['Unnamed: 0'].sum()) * 100\n",
    "f\"Male percentage: {male_percentage}%\""
   ],
   "metadata": {
    "collapsed": false,
    "pycharm": {
     "name": "#%%\n"
    }
   }
  },
  {
   "cell_type": "markdown",
   "source": [
    " # 3. Який відсоток студенток у наборі даних?"
   ],
   "metadata": {
    "collapsed": false,
    "pycharm": {
     "name": "#%% md\n"
    }
   }
  },
  {
   "cell_type": "code",
   "execution_count": 38,
   "outputs": [
    {
     "data": {
      "text/plain": "'Female percentage: 50.3377827094416%'"
     },
     "execution_count": 38,
     "metadata": {},
     "output_type": "execute_result"
    }
   ],
   "source": [
    "female_percentage = 100 - male_percentage\n",
    "f\"Female percentage: {female_percentage}%\""
   ],
   "metadata": {
    "collapsed": false,
    "pycharm": {
     "name": "#%%\n"
    }
   }
  },
  {
   "cell_type": "markdown",
   "source": [
    "# 4. Яка етнічна група має найвищий середній бал з математики?"
   ],
   "metadata": {
    "collapsed": false,
    "pycharm": {
     "name": "#%% md\n"
    }
   }
  },
  {
   "cell_type": "code",
   "execution_count": 26,
   "outputs": [
    {
     "data": {
      "text/plain": "'group E'"
     },
     "execution_count": 26,
     "metadata": {},
     "output_type": "execute_result"
    }
   ],
   "source": [
    "math_means = table.groupby('EthnicGroup')['MathScore'].mean()\n",
    "math_means.idxmax()"
   ],
   "metadata": {
    "collapsed": false,
    "pycharm": {
     "name": "#%%\n"
    }
   }
  },
  {
   "cell_type": "markdown",
   "source": [
    "# 5. Яка етнічна група має найвищий середній бал читання?"
   ],
   "metadata": {
    "collapsed": false,
    "pycharm": {
     "name": "#%% md\n"
    }
   }
  },
  {
   "cell_type": "code",
   "execution_count": 27,
   "outputs": [
    {
     "data": {
      "text/plain": "'group E'"
     },
     "execution_count": 27,
     "metadata": {},
     "output_type": "execute_result"
    }
   ],
   "source": [
    "reading_means = table.groupby('EthnicGroup')['ReadingScore'].mean()\n",
    "reading_means.idxmax()"
   ],
   "metadata": {
    "collapsed": false,
    "pycharm": {
     "name": "#%%\n"
    }
   }
  },
  {
   "cell_type": "markdown",
   "source": [
    "  # 6. Яка етнічна група має найвищий середній бал з письма?"
   ],
   "metadata": {
    "collapsed": false,
    "pycharm": {
     "name": "#%% md\n"
    }
   }
  },
  {
   "cell_type": "code",
   "execution_count": 28,
   "outputs": [
    {
     "data": {
      "text/plain": "'group E'"
     },
     "execution_count": 28,
     "metadata": {},
     "output_type": "execute_result"
    }
   ],
   "source": [
    "writing_means = table.groupby('EthnicGroup')['WritingScore'].mean()\n",
    "writing_means.idxmax()"
   ],
   "metadata": {
    "collapsed": false,
    "pycharm": {
     "name": "#%%\n"
    }
   }
  },
  {
   "cell_type": "markdown",
   "source": [
    "# 7. Який середній бал з математики для студентів, які закінчили курс підготовки до тесту?"
   ],
   "metadata": {
    "collapsed": false,
    "pycharm": {
     "name": "#%% md\n"
    }
   }
  },
  {
   "cell_type": "code",
   "execution_count": 29,
   "outputs": [
    {
     "data": {
      "text/plain": "69.5466599698644"
     },
     "execution_count": 29,
     "metadata": {},
     "output_type": "execute_result"
    }
   ],
   "source": [
    "preparation_course_math_mean = table.groupby('TestPrep')['MathScore'].mean()\n",
    "preparation_course_math_mean.loc['completed']"
   ],
   "metadata": {
    "collapsed": false,
    "pycharm": {
     "name": "#%%\n"
    }
   }
  },
  {
   "cell_type": "markdown",
   "source": [
    " # 8. Який середній бал з читання для студентів, які пройшли курс підготовки до тесту?"
   ],
   "metadata": {
    "collapsed": false,
    "pycharm": {
     "name": "#%% md\n"
    }
   }
  },
  {
   "cell_type": "code",
   "execution_count": 30,
   "outputs": [
    {
     "data": {
      "text/plain": "73.73299849321948"
     },
     "execution_count": 30,
     "metadata": {},
     "output_type": "execute_result"
    }
   ],
   "source": [
    "preparation_course_reading_mean = table.groupby('TestPrep')['ReadingScore'].mean()\n",
    "preparation_course_reading_mean.loc['completed']"
   ],
   "metadata": {
    "collapsed": false,
    "pycharm": {
     "name": "#%%\n"
    }
   }
  },
  {
   "cell_type": "markdown",
   "source": [
    "# 9. Який середній бал для студентів, які закінчили курс підготовки до тесту?"
   ],
   "metadata": {
    "collapsed": false,
    "pycharm": {
     "name": "#%% md\n"
    }
   }
  },
  {
   "cell_type": "code",
   "execution_count": 31,
   "outputs": [
    {
     "data": {
      "text/plain": "74.70326469111"
     },
     "execution_count": 31,
     "metadata": {},
     "output_type": "execute_result"
    }
   ],
   "source": [
    "preparation_course_writing_mean = table.groupby('TestPrep')['WritingScore'].mean()\n",
    "preparation_course_writing_mean.loc['completed']"
   ],
   "metadata": {
    "collapsed": false,
    "pycharm": {
     "name": "#%%\n"
    }
   }
  },
  {
   "cell_type": "markdown",
   "source": [
    "# 10. Скільки студентів мають одружених батьків?"
   ],
   "metadata": {
    "collapsed": false,
    "pycharm": {
     "name": "#%% md\n"
    }
   }
  },
  {
   "cell_type": "code",
   "execution_count": 32,
   "outputs": [
    {
     "data": {
      "text/plain": "16844"
     },
     "execution_count": 32,
     "metadata": {},
     "output_type": "execute_result"
    }
   ],
   "source": [
    "parents_married = table.groupby('ParentMaritalStatus')['Unnamed: 0'].count()\n",
    "parents_married.loc['married']"
   ],
   "metadata": {
    "collapsed": false,
    "pycharm": {
     "name": "#%%\n"
    }
   }
  },
  {
   "cell_type": "markdown",
   "source": [
    "# 11. Скільки студентів мають батьків-одинаків?"
   ],
   "metadata": {
    "collapsed": false,
    "pycharm": {
     "name": "#%% md\n"
    }
   }
  },
  {
   "cell_type": "code",
   "execution_count": 33,
   "outputs": [
    {
     "data": {
      "text/plain": "7097"
     },
     "execution_count": 33,
     "metadata": {},
     "output_type": "execute_result"
    }
   ],
   "source": [
    "parents_married.loc['single']"
   ],
   "metadata": {
    "collapsed": false,
    "pycharm": {
     "name": "#%%\n"
    }
   }
  },
  {
   "cell_type": "markdown",
   "source": [
    "# 12. Чи студенти, які регулярно займаються спортом, мають вищі середні результати з математики, ніж ті, хто ніколи не       займається спортом?"
   ],
   "metadata": {
    "collapsed": false,
    "pycharm": {
     "name": "#%% md\n"
    }
   }
  },
  {
   "cell_type": "code",
   "execution_count": 34,
   "outputs": [
    {
     "data": {
      "text/plain": "True"
     },
     "execution_count": 34,
     "metadata": {},
     "output_type": "execute_result"
    }
   ],
   "source": [
    "practice_sport_math_means = table.groupby('PracticeSport')['MathScore'].mean()\n",
    "practice_sport_math_means.loc['regularly'] > practice_sport_math_means.loc['never']"
   ],
   "metadata": {
    "collapsed": false,
    "pycharm": {
     "name": "#%%\n"
    }
   }
  },
  {
   "cell_type": "markdown",
   "source": [
    " # 13. Чи студенти, які регулярно займаються спортом, мають вищі середні результати читання, ніж ті, хто ніколи не займається спортом?"
   ],
   "metadata": {
    "collapsed": false,
    "pycharm": {
     "name": "#%% md\n"
    }
   }
  },
  {
   "cell_type": "code",
   "execution_count": 35,
   "outputs": [
    {
     "data": {
      "text/plain": "True"
     },
     "execution_count": 35,
     "metadata": {},
     "output_type": "execute_result"
    }
   ],
   "source": [
    "practice_sport_reading_means = table.groupby('PracticeSport')['ReadingScore'].mean()\n",
    "practice_sport_reading_means.loc['regularly'] > practice_sport_math_means.loc['never']"
   ],
   "metadata": {
    "collapsed": false,
    "pycharm": {
     "name": "#%%\n"
    }
   }
  },
  {
   "cell_type": "markdown",
   "source": [
    "# 14. Скільки учнів користується шкільним автобусом, щоб дістатися до школи?"
   ],
   "metadata": {
    "collapsed": false,
    "pycharm": {
     "name": "#%% md\n"
    }
   }
  },
  {
   "cell_type": "code",
   "execution_count": 36,
   "outputs": [
    {
     "data": {
      "text/plain": "16145"
     },
     "execution_count": 36,
     "metadata": {},
     "output_type": "execute_result"
    }
   ],
   "source": [
    "transport_counts = table.groupby('TransportMeans')['Unnamed: 0'].count()\n",
    "transport_counts.loc['school_bus']"
   ],
   "metadata": {
    "collapsed": false,
    "pycharm": {
     "name": "#%%\n"
    }
   }
  },
  {
   "cell_type": "markdown",
   "source": [
    "# 15. Скільки учнів користується приватним транспортом, щоб дістатися до школи?"
   ],
   "metadata": {
    "collapsed": false,
    "pycharm": {
     "name": "#%% md\n"
    }
   }
  },
  {
   "cell_type": "code",
   "execution_count": 37,
   "outputs": [
    {
     "data": {
      "text/plain": "11362"
     },
     "execution_count": 37,
     "metadata": {},
     "output_type": "execute_result"
    }
   ],
   "source": [
    "transport_counts.loc['private']"
   ],
   "metadata": {
    "collapsed": false,
    "pycharm": {
     "name": "#%%\n"
    }
   }
  }
 ],
 "metadata": {
  "kernelspec": {
   "display_name": "Python 3",
   "language": "python",
   "name": "python3"
  },
  "language_info": {
   "codemirror_mode": {
    "name": "ipython",
    "version": 2
   },
   "file_extension": ".py",
   "mimetype": "text/x-python",
   "name": "python",
   "nbconvert_exporter": "python",
   "pygments_lexer": "ipython2",
   "version": "2.7.6"
  }
 },
 "nbformat": 4,
 "nbformat_minor": 0
}