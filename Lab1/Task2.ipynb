{
 "cells": [
  {
   "cell_type": "code",
   "execution_count": 1,
   "id": "2e97ec30",
   "metadata": {
    "pycharm": {
     "name": "#%%\n"
    }
   },
   "outputs": [],
   "source": [
    "def decimal_to_binary(num):\n",
    "    if type(num) is not int and type(num) is not float:\n",
    "        return \"Argument is not a number\"\n",
    "\n",
    "    # розділення числа на цілу та дробову частини\n",
    "    integer_part = abs(int(num))\n",
    "    decimal_part = abs(num) - integer_part\n",
    "    sign = '-' if num < 0 else ''\n",
    "\n",
    "    # переведення цілої частини у двійкову систему числення\n",
    "    binary_int = ''\n",
    "    while integer_part > 0:\n",
    "        remainder = integer_part % 2\n",
    "        binary_int = str(remainder) + binary_int\n",
    "        integer_part //= 2\n",
    "    if binary_int == '':\n",
    "        binary_int = '0'\n",
    "\n",
    "    # переведення дробової частини у двійкову систему числення\n",
    "    binary_decimal = ''\n",
    "    while decimal_part > 0:\n",
    "        decimal_part *= 2\n",
    "        if decimal_part < 1:\n",
    "            binary_decimal += '0'\n",
    "        else:\n",
    "            binary_decimal += '1'\n",
    "            decimal_part -= 1\n",
    "\n",
    "    # об'єднання двійкової цілої та дробової частин\n",
    "    binary = binary_int + '.' + binary_decimal\n",
    "\n",
    "    # повернення результату зі знаком\n",
    "    return sign + binary"
   ]
  },
  {
   "cell_type": "code",
   "execution_count": 2,
   "id": "9ba2cb5d",
   "metadata": {
    "pycharm": {
     "name": "#%%\n"
    }
   },
   "outputs": [
    {
     "data": {
      "text/plain": [
       "'100010.'"
      ]
     },
     "execution_count": 2,
     "metadata": {},
     "output_type": "execute_result"
    }
   ],
   "source": [
    "decimal_to_binary(34)"
   ]
  },
  {
   "cell_type": "code",
   "execution_count": 3,
   "id": "992e1c53",
   "metadata": {
    "pycharm": {
     "name": "#%%\n"
    }
   },
   "outputs": [
    {
     "data": {
      "text/plain": [
       "'-1100.01'"
      ]
     },
     "execution_count": 3,
     "metadata": {},
     "output_type": "execute_result"
    }
   ],
   "source": [
    "decimal_to_binary(-12.25)"
   ]
  },
  {
   "cell_type": "code",
   "execution_count": 4,
   "id": "4c867d85",
   "metadata": {
    "pycharm": {
     "name": "#%%\n"
    }
   },
   "outputs": [
    {
     "data": {
      "text/plain": [
       "'Argument is not a number'"
      ]
     },
     "execution_count": 4,
     "metadata": {},
     "output_type": "execute_result"
    }
   ],
   "source": [
    "decimal_to_binary(\"125.1\")"
   ]
  },
  {
   "cell_type": "code",
   "execution_count": null,
   "outputs": [],
   "source": [
    "decimal_to_binary([125.1])"
   ],
   "metadata": {
    "collapsed": false,
    "pycharm": {
     "name": "#%%\n"
    }
   }
  },
  {
   "cell_type": "code",
   "execution_count": 5,
   "id": "ed110002",
   "metadata": {},
   "outputs": [
    {
     "data": {
      "text/plain": [
       "'Argument is not a number'"
      ]
     },
     "execution_count": 5,
     "metadata": {},
     "output_type": "execute_result"
    }
   ],
   "source": [
    "decimal_to_binary([125.1])"
   ]
  }
 ],
 "metadata": {
  "kernelspec": {
   "display_name": "Python 3 (ipykernel)",
   "language": "python",
   "name": "python3"
  },
  "language_info": {
   "codemirror_mode": {
    "name": "ipython",
    "version": 3
   },
   "file_extension": ".py",
   "mimetype": "text/x-python",
   "name": "python",
   "nbconvert_exporter": "python",
   "pygments_lexer": "ipython3",
   "version": "3.10.11"
  }
 },
 "nbformat": 4,
 "nbformat_minor": 5
}