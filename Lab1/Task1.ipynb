{
 "cells": [
  {
   "cell_type": "code",
   "execution_count": 1,
   "id": "9b6c3be9",
   "metadata": {
    "pycharm": {
     "name": "#%%\n"
    }
   },
   "outputs": [
    {
     "data": {
      "text/html": [
       "<svg xmlns=\"http://www.w3.org/2000/svg\"  width=\"1250\" height=\"900\" viewBox=\"0 0 25 18\">\n",
       "\t<path d=\"M0 0H25V18H0Z\" fill=\"#02529C\"/>\n",
       "\t<path d=\"M0 9H25M9 0V18\" stroke-width=\"4\" stroke=\"#FFF\"/>\n",
       "\t<path d=\"M0 9H25M9 0V18\" stroke-width=\"2\" stroke=\"#DC1E35\"/>\n",
       "</svg>\n"
      ],
      "text/plain": [
       "<IPython.core.display.HTML object>"
      ]
     },
     "metadata": {},
     "output_type": "display_data"
    }
   ],
   "source": [
    "%%HTML\n",
    "<svg xmlns=\"http://www.w3.org/2000/svg\"  width=\"1250\" height=\"900\" viewBox=\"0 0 25 18\">\n",
    "\t<path d=\"M0 0H25V18H0Z\" fill=\"#02529C\"/>\n",
    "\t<path d=\"M0 9H25M9 0V18\" stroke-width=\"4\" stroke=\"#FFF\"/>\n",
    "\t<path d=\"M0 9H25M9 0V18\" stroke-width=\"2\" stroke=\"#DC1E35\"/>\n",
    "</svg>"
   ]
  },
  {
   "cell_type": "markdown",
   "id": "26e3bac7",
   "metadata": {
    "pycharm": {
     "name": "#%% md\n"
    }
   },
   "source": [
    "## General information:\n",
    "- Total area: 102,775 km<sup>2</sup>\n",
    "- Population: 376,248\n",
    "- Government: Unitary parliamentary republic"
   ]
  },
  {
   "cell_type": "markdown",
   "id": "b549ab7a",
   "metadata": {
    "pycharm": {
     "name": "#%% md\n"
    }
   },
   "source": [
    "## Famous personalities\n",
    "| Name | Photo | Description |\n",
    "| ---- | ----- | ----------- |\n",
    "| [Björk](https://en.wikipedia.org/wiki/Bj%C3%B6rk) | ![Björk](https://upload.wikimedia.org/wikipedia/commons/thumb/0/0f/Bjork_Orkestral_Paris_%28cropped%29.png/440px-Bjork_Orkestral_Paris_%28cropped%29.png) | Icelandic singer, songwriter, composer, record producer, and actress. Noted for her distinct three-octave vocal range and eccentric persona, she has developed an eclectic musical style over her four-decade career that has drawn on electronic, pop, experimental, trip hop, classical, and avant-garde music. |\n",
    "| [Anita Briem](https://en.wikipedia.org/wiki/Anita_Briem) | ![Anita Briem](https://encrypted-tbn3.gstatic.com/images?q=tbn:ANd9GcTAjl6AdUbPIInSOxgpE5GYjnXOvmyrjXWhwYCCvM_uYEge0Ucp) | Icelandic actress. She is known for her role as Queen Jane Seymour on The Tudors and her role as Hannah Ásgeirsson in Journey to the Center of the Earth. |\n",
    "| [Eiður Guðjohnsen](https://en.wikipedia.org/wiki/Ei%C3%B0ur_Gu%C3%B0johnsen) | ![Eiður Guðjohnsen](https://upload.wikimedia.org/wikipedia/commons/thumb/f/f5/Ei%C3%B0ur_Gu%C3%B0johnsen_2018.jpg/440px-Ei%C3%B0ur_Gu%C3%B0johnsen_2018.jpg) | Icelandic professional football coach and former player who played as a forward. Eiður saw his greatest success in England and Spain with Chelsea and Barcelona respectively, where he won the UEFA Champions League and La Liga with the latter and the League Cup and Premiership twice with the former. |"
   ]
  },
  {
   "cell_type": "code",
   "execution_count": 2,
   "id": "ff92cbf7",
   "metadata": {
    "pycharm": {
     "name": "#%%\n"
    },
    "scrolled": false
   },
   "outputs": [
    {
     "data": {
      "text/html": [
       "<style>\n",
       "        ul {\n",
       "            padding-left: 20px;\n",
       "        }\n",
       "\n",
       "        .landmarks {\n",
       "            padding: 30px;\n",
       "            border: 2px solid rgb(251, 248, 101);\n",
       "            border-radius: 10px;\n",
       "            color: rgb(79, 163, 192);\n",
       "            min-width: 900px;\n",
       "        }\n",
       "\n",
       "        .landmark-section {\n",
       "            display: grid;\n",
       "            grid-row: 1;\n",
       "            row-gap: 20px;\n",
       "        }\n",
       "\n",
       "        .landmark {\n",
       "            padding: 20px 5px;\n",
       "            border: 1px solid #333;\n",
       "            border-radius: 15px;\n",
       "            color: rgb(238, 166, 94);\n",
       "            text-align: center;\n",
       "        }\n",
       "\n",
       "        .landmark img {\n",
       "            max-width: 1080px;\n",
       "            max-height: 720px;\n",
       "            border-radius: 10px;\n",
       "            box-shadow: 10px 10px 5px rgba(0, 0, 0, 0.196);\n",
       "        }\n",
       "</style>\n",
       "\n",
       "<h2>Famous historical landmarks</h2>\n",
       "\n",
       "<div class=\"landmarks\">\n",
       "    <h3>Buildings</h3>\n",
       "    <ul class=\"landmark-section\">\n",
       "        <li>\n",
       "            <div class=\"landmark\">\n",
       "                <h3>Sun Voyager</h3>\n",
       "                <img src=\"Res/sun-voyager.jpg\"\n",
       "                    alt=\"Sun Voyager\">\n",
       "            </div>\n",
       "        </li>\n",
       "        <li>\n",
       "            <div class=\"landmark\">\n",
       "                <h3>Hallgrímskirkja</h3>\n",
       "                <img src=\"Res/hallgrímskirkja.jpg\"\n",
       "                    alt=\"Hallgrímskirkja\">\n",
       "            </div>\n",
       "        </li>\n",
       "        <li>\n",
       "            <div class=\"landmark\">\n",
       "                <h3>Perlan</h3>\n",
       "                <img src=\"Res/perlan.jpg\"\n",
       "                    alt=\"Perlan\">\n",
       "            </div>\n",
       "        </li>\n",
       "    </ul>\n",
       "</div>\n"
      ],
      "text/plain": [
       "<IPython.core.display.HTML object>"
      ]
     },
     "metadata": {},
     "output_type": "display_data"
    }
   ],
   "source": [
    "%%HTML\n",
    "<style>\n",
    "        ul {\n",
    "            padding-left: 20px;\n",
    "        }\n",
    "\n",
    "        .landmarks {\n",
    "            padding: 30px;\n",
    "            border: 2px solid rgb(251, 248, 101);\n",
    "            border-radius: 10px;\n",
    "            color: rgb(79, 163, 192);\n",
    "            min-width: 900px;\n",
    "        }\n",
    "\n",
    "        .landmark-section {\n",
    "            display: grid;\n",
    "            grid-row: 1;\n",
    "            row-gap: 20px;\n",
    "        }\n",
    "\n",
    "        .landmark {\n",
    "            padding: 20px 5px;\n",
    "            border: 1px solid #333;\n",
    "            border-radius: 15px;\n",
    "            color: rgb(238, 166, 94);\n",
    "            text-align: center;\n",
    "        }\n",
    "\n",
    "        .landmark img {\n",
    "            max-width: 1080px;\n",
    "            max-height: 720px;\n",
    "            border-radius: 10px;\n",
    "            box-shadow: 10px 10px 5px rgba(0, 0, 0, 0.196);\n",
    "        }\n",
    "</style>\n",
    "\n",
    "<h2>Famous historical landmarks</h2>\n",
    "\n",
    "<div class=\"landmarks\">\n",
    "    <h3>Buildings</h3>\n",
    "    <ul class=\"landmark-section\">\n",
    "        <li>\n",
    "            <div class=\"landmark\">\n",
    "                <h3>Sun Voyager</h3>\n",
    "                <img src=\"Res/sun-voyager.jpg\"\n",
    "                    alt=\"Sun Voyager\">\n",
    "            </div>\n",
    "        </li>\n",
    "        <li>\n",
    "            <div class=\"landmark\">\n",
    "                <h3>Hallgrímskirkja</h3>\n",
    "                <img src=\"Res/hallgrímskirkja.jpg\"\n",
    "                    alt=\"Hallgrímskirkja\">\n",
    "            </div>\n",
    "        </li>\n",
    "        <li>\n",
    "            <div class=\"landmark\">\n",
    "                <h3>Perlan</h3>\n",
    "                <img src=\"Res/perlan.jpg\"\n",
    "                    alt=\"Perlan\">\n",
    "            </div>\n",
    "        </li>\n",
    "    </ul>\n",
    "</div>"
   ]
  },
  {
   "cell_type": "code",
   "execution_count": null,
   "id": "4c96761f",
   "metadata": {
    "pycharm": {
     "name": "#%%\n"
    }
   },
   "outputs": [],
   "source": []
  }
 ],
 "metadata": {
  "kernelspec": {
   "display_name": "Python 3 (ipykernel)",
   "language": "python",
   "name": "python3"
  },
  "language_info": {
   "codemirror_mode": {
    "name": "ipython",
    "version": 3
   },
   "file_extension": ".py",
   "mimetype": "text/x-python",
   "name": "python",
   "nbconvert_exporter": "python",
   "pygments_lexer": "ipython3",
   "version": "3.10.11"
  }
 },
 "nbformat": 4,
 "nbformat_minor": 5
}