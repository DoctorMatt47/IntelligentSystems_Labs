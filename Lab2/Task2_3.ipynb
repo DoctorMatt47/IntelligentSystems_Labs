{
 "cells": [
  {
   "cell_type": "code",
   "execution_count": 1,
   "id": "05986662",
   "metadata": {
    "pycharm": {
     "name": "#%%\n"
    }
   },
   "outputs": [],
   "source": [
    "import math\n",
    "import random\n",
    "import numpy as np"
   ]
  },
  {
   "cell_type": "markdown",
   "id": "38980e3d",
   "metadata": {
    "pycharm": {
     "name": "#%% md\n"
    }
   },
   "source": [
    "## Розв’язати систему алгебраїчних рівнянь за допомогою формул Крамера\n",
    "---\n",
    "### Виконати перевірку за допомогою:\n",
    "* матричного множення;\n",
    "* оберненої матриці;\n",
    "* функції numpy.linalg.solve().\n",
    "___\n",
    "$$\n",
    "\\begin{cases}\n",
    " 2x_1 + x_2 - 5x_3 + x_4 = 8 \\\\\n",
    " x_1 - 3x_2 - 6x_4 = 9 \\\\\n",
    " 2x_2 - x_3 + 2x_4 = -5 \\\\\n",
    " x_1 + 4x_2 - 7x_3 + 6x_4 = 0\n",
    "\\end{cases}\n",
    "$$"
   ]
  },
  {
   "cell_type": "code",
   "execution_count": 2,
   "id": "e0eba24d",
   "metadata": {
    "pycharm": {
     "name": "#%%\n"
    }
   },
   "outputs": [
    {
     "name": "stdout",
     "output_type": "stream",
     "text": [
      "Cramer result: [ 10.41176471  21.52941176   4.76470588 -10.52941176]\n",
      "NumPy result: [ 10.41176471  21.52941176   4.76470588 -10.52941176]\n",
      "\n",
      "Check with matrix multiplication: \n",
      "Expected value [ 8  9 -5  0]\n",
      "Got value [ 8.00000000e+00  9.00000000e+00 -5.00000000e+00 -4.97379915e-14]\n",
      "\n",
      "Check with inverse matrix: \n",
      "Expected value [ 10.41176471  21.52941176   4.76470588 -10.52941176]\n",
      "Got value [ 10.41176471  21.52941176   4.76470588 -10.52941176]\n",
      "\n"
     ]
    }
   ],
   "source": [
    "matrix = np.array([[2, 1, -5, 1],\n",
    "                   [1, -3, 0, -6],\n",
    "                   [2, 0, -1, 2],\n",
    "                   [1, 4, -7, 6]])\n",
    "\n",
    "results = np.array([8, 9, -5, 0])\n",
    "\n",
    "\n",
    "def cramer(matrix, results):\n",
    "    det = np.linalg.det(matrix)\n",
    "    size = matrix.shape[0]\n",
    "\n",
    "    solution = np.zeros(size)\n",
    "\n",
    "    if np.allclose(det, 0):\n",
    "        print(\"Determinant is zero\")\n",
    "        return solution\n",
    "\n",
    "    for i in range(size):\n",
    "        temp_matrix = np.copy(matrix)\n",
    "        temp_matrix[:, i] = np.copy(results)\n",
    "        solution[i] = np.linalg.det(temp_matrix) / det\n",
    "\n",
    "    return solution\n",
    "\n",
    "\n",
    "solution_cramer = cramer(matrix, results)\n",
    "print(f\"Cramer result: {solution_cramer}\")\n",
    "\n",
    "solution_numpy = np.linalg.solve(matrix, results)\n",
    "print(f\"NumPy result: {solution_numpy}\\n\")\n",
    "assert np.allclose(solution_numpy, solution_cramer)\n",
    "\n",
    "check_mult = np.dot(matrix, solution_cramer)\n",
    "print(\"Check with matrix multiplication: \")\n",
    "print(f\"Expected value {results}\")\n",
    "print(f\"Got value {check_mult}\\n\")\n",
    "assert np.allclose(results, check_mult)\n",
    "\n",
    "check_inv = np.dot(np.linalg.inv(matrix), results)\n",
    "print(\"Check with inverse matrix: \")\n",
    "print(f\"Expected value {check_inv}\")\n",
    "print(f\"Got value {solution_cramer}\\n\")\n",
    "assert np.allclose(check_inv, solution_cramer)"
   ]
  },
  {
   "cell_type": "markdown",
   "id": "37fc44a9",
   "metadata": {
    "pycharm": {
     "name": "#%% md\n"
    }
   },
   "source": [
    "# Task 3\n"
   ]
  },
  {
   "cell_type": "markdown",
   "id": "28e3b94b",
   "metadata": {
    "pycharm": {
     "name": "#%% md\n"
    }
   },
   "source": [
    "#### Обчислити значення матричного виразу\n",
    "* з використанням універсальних функцій бібліотеки NumPy.\n",
    "* за допомогою ітеративних конструкцій (з використанням циклів, спискових включень тощо).\n",
    "* для обох випадків підрахувати час виконання скрипту та зробити висновок.\n",
    "___\n",
    "$2(A - 0.5B) + AB$,\n",
    "\n",
    "$$\n",
    "A =\n",
    "\\begin{pmatrix}\n",
    " 5 & 3 & -1 \\\\\n",
    "2 & -2 & 0 \\\\\n",
    " 3 & -1 & 2\n",
    "\\end{pmatrix},\n",
    "B = \n",
    "\\begin{pmatrix}\n",
    " 1 &  4 & 16 \\\\\n",
    "-3 & -2 &  0 \\\\\n",
    " 5 &  7 &  2\n",
    "\\end{pmatrix}\n",
    "$$"
   ]
  },
  {
   "cell_type": "code",
   "execution_count": 3,
   "id": "3d768890",
   "metadata": {
    "pycharm": {
     "name": "#%%\n"
    }
   },
   "outputs": [
    {
     "name": "stdout",
     "output_type": "stream",
     "text": [
      "6.44 µs ± 941 ns per loop (mean ± std. dev. of 10 runs, 100 loops each)\n",
      "15.5 µs ± 900 ns per loop (mean ± std. dev. of 10 runs, 100 loops each)\n",
      "NumPy:  [[ 0.  9. 60.]\n",
      " [15. 10. 32.]\n",
      " [17. 19. 54.]]\n",
      "Iterative:  [[0.0, 9.0, 60.0], [15.0, 10.0, 32.0], [17.0, 19.0, 54.0]]\n",
      "Equal:  True\n"
     ]
    }
   ],
   "source": [
    "A = [[5, 3, -1],\n",
    "     [2, -2, 0],\n",
    "     [3, -1, 2]]\n",
    "\n",
    "B = [[1, 4, 16],\n",
    "     [-3, -2, 0],\n",
    "     [5, 7, 2]]\n",
    "\n",
    "A_np = np.array(A)\n",
    "B_np = np.array(B)\n",
    "\n",
    "\n",
    "def mmult(A, B):\n",
    "    a_rows, a_cols = len(A), len(A[0])\n",
    "    b_rows, b_cols = len(B), len(B[0])\n",
    "    if a_cols != b_rows:\n",
    "        print(\"Wrong dimensions, multiplication is impossible.\")\n",
    "        return []\n",
    "\n",
    "    return [[sum([x * y for (x, y) in zip(row, col)]) for col in zip(*B)] for row in A]\n",
    "\n",
    "\n",
    "def madd(A, B):\n",
    "    a_rows, a_cols = len(A), len(A[0])\n",
    "    b_rows, b_cols = len(B), len(B[0])\n",
    "    if a_rows != b_rows or a_cols != b_cols:\n",
    "        print(\"Wrong dimensions, addition is impossible.\")\n",
    "        return []\n",
    "\n",
    "    return [[A[i][j] + B[i][j] for j in range(a_cols)] for i in range(a_rows)]\n",
    "\n",
    "\n",
    "def msub(A, B):\n",
    "    a_rows, a_cols = len(A), len(A[0])\n",
    "    b_rows, b_cols = len(B), len(B[0])\n",
    "    if a_rows != b_rows or a_cols != b_cols:\n",
    "        print(\"Wrong dimensions, addition is impossible.\")\n",
    "        return []\n",
    "\n",
    "    return [[A[i][j] - B[i][j] for j in range(a_cols)] for i in range(a_rows)]\n",
    "\n",
    "\n",
    "def smult(scalar, matrix):\n",
    "    rows, cols = len(matrix), len(matrix[0])\n",
    "    return [[matrix[i][j] * scalar for j in range(cols)] for i in range(rows)]\n",
    "\n",
    "\n",
    "def solve_numpy():\n",
    "    return 2 * (A_np - 0.5 * B_np) + A_np @ B_np\n",
    "\n",
    "\n",
    "def solve_iterative():\n",
    "    return madd(smult(2, msub(A, smult(0.5, B))), mmult(A, B))\n",
    "\n",
    "\n",
    "%timeit -n 100 -r 10 solve_numpy()\n",
    "%timeit -n 100 -r 10 solve_iterative()\n",
    "\n",
    "result_numpy = solve_numpy()\n",
    "result_iterative = solve_iterative()\n",
    "\n",
    "print(\"NumPy: \", result_numpy)\n",
    "print(\"Iterative: \", result_iterative)\n",
    "print(\"Equal: \", np.allclose(result_numpy, result_iterative))"
   ]
  },
  {
   "cell_type": "code",
   "execution_count": null,
   "id": "6994ec6f",
   "metadata": {
    "pycharm": {
     "name": "#%%\n"
    }
   },
   "outputs": [],
   "source": []
  }
 ],
 "metadata": {
  "kernelspec": {
   "display_name": "Python 3 (ipykernel)",
   "language": "python",
   "name": "python3"
  },
  "language_info": {
   "codemirror_mode": {
    "name": "ipython",
    "version": 3
   },
   "file_extension": ".py",
   "mimetype": "text/x-python",
   "name": "python",
   "nbconvert_exporter": "python",
   "pygments_lexer": "ipython3",
   "version": "3.10.11"
  },
  "vscode": {
   "interpreter": {
    "hash": "2fd32d8e905b54f1a1b6ecf586d723922048d49c6dae2d40ce18169fa81fbbfd"
   }
  }
 },
 "nbformat": 4,
 "nbformat_minor": 5
}
