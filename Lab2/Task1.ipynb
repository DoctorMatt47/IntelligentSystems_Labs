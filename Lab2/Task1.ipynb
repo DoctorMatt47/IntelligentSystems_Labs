{
 "cells": [
  {
   "cell_type": "code",
   "execution_count": 83,
   "id": "05986662",
   "metadata": {
    "pycharm": {
     "name": "#%%\n"
    }
   },
   "outputs": [],
   "source": [
    "import random\n",
    "import numpy as np"
   ]
  },
  {
   "cell_type": "markdown",
   "id": "1726239e",
   "metadata": {
    "pycharm": {
     "name": "#%% md\n"
    }
   },
   "source": [
    "# Variant 7 tasks: 3, 4, 5, 6, 7, 8, 9, 13, 19"
   ]
  },
  {
   "cell_type": "markdown",
   "id": "bfd710c8",
   "metadata": {
    "pycharm": {
     "name": "#%% md\n"
    }
   },
   "source": [
    "## Task 3:"
   ]
  },
  {
   "cell_type": "markdown",
   "id": "9e521e91",
   "metadata": {
    "pycharm": {
     "name": "#%% md\n"
    }
   },
   "source": [
    "Вводяться 4 числа n, m, r, c. Вивести масив розміру n×m, в якому в кожному рядку з номером r і в кожному стовпчику з номером c стоять 0, а інші елементи дорівнюють 1."
   ]
  },
  {
   "cell_type": "code",
   "execution_count": 84,
   "id": "203306aa",
   "metadata": {
    "pycharm": {
     "name": "#%%\n"
    }
   },
   "outputs": [
    {
     "name": "stdout",
     "output_type": "stream",
     "text": [
      "[[0 0 0 0 0 0 0]\n",
      " [0 1 1 0 1 1 0]\n",
      " [0 0 0 0 0 0 0]\n",
      " [0 1 1 0 1 1 0]\n",
      " [0 0 0 0 0 0 0]\n",
      " [0 1 1 0 1 1 0]]\n",
      "True\n",
      "8.91 µs ± 256 ns per loop (mean ± std. dev. of 10 runs, 100 loops each)\n",
      "2.36 ms ± 48.3 µs per loop (mean ± std. dev. of 10 runs, 100 loops each)\n"
     ]
    }
   ],
   "source": [
    "def task_3_numpy(n, m, r, c):\n",
    "    res = np.ones((n, m), dtype=int)\n",
    "    res[::r, :] = 0\n",
    "    res[:, ::c] = 0 \n",
    "    return res\n",
    "\n",
    "def task_3_iterative(n, m, r, c):\n",
    "    return [[1 if i%r and j%c else 0 for j in range(0, m)] for i in range(0, n)]\n",
    "\n",
    "print(task_3_numpy(6, 7, 2, 3))\n",
    "print(np.array_equal(task_3_numpy(200, 300, 4, 5), task_3_iterative(200, 300, 4, 5)))\n",
    "\n",
    "%timeit -n 100 -r 10 task_3_numpy(200, 300, 4, 5)\n",
    "%timeit -n 100 -r 10 task_3_iterative(200, 300, 4, 5)"
   ]
  },
  {
   "cell_type": "markdown",
   "id": "d4b1b475",
   "metadata": {
    "pycharm": {
     "name": "#%% md\n"
    }
   },
   "source": [
    "## Task 4:"
   ]
  },
  {
   "cell_type": "markdown",
   "id": "9b1b0798",
   "metadata": {
    "pycharm": {
     "name": "#%% md\n"
    }
   },
   "source": [
    "Вводяться числа n і m. Вивести масив розміру n×m, в якому у першому рядку (рядок з нулевим індексом) йдуть числа від 0 до m–1, а всі інші елементи матриці дорівнюють 0."
   ]
  },
  {
   "cell_type": "code",
   "execution_count": 85,
   "id": "6fda706a",
   "metadata": {
    "pycharm": {
     "name": "#%%\n"
    },
    "scrolled": true
   },
   "outputs": [
    {
     "name": "stdout",
     "output_type": "stream",
     "text": [
      "[[0 1 2 3]\n",
      " [0 0 0 0]\n",
      " [0 0 0 0]]\n",
      "True\n",
      "3.7 µs ± 546 ns per loop (mean ± std. dev. of 10 runs, 100 loops each)\n",
      "5.13 µs ± 68.1 ns per loop (mean ± std. dev. of 10 runs, 100 loops each)\n"
     ]
    }
   ],
   "source": [
    "def task_4_numpy(n, m):\n",
    "    res = np.zeros((n, m), dtype=int)\n",
    "    res[0] = np.arange(m, dtype=int)\n",
    "    return res\n",
    "\n",
    "def task_4_iterative(n, m):\n",
    "    res = [[0] * m] * n\n",
    "    res[0] = [i for i in range(m)]\n",
    "    return res\n",
    "\n",
    "print(task_4_numpy(3, 4))\n",
    "print(np.array_equal(task_4_numpy(200, 300), task_4_iterative(200, 300)))\n",
    "\n",
    "%timeit -n 100 -r 10 task_4_numpy(200, 300)\n",
    "%timeit -n 100 -r 10 task_4_iterative(200, 300)"
   ]
  },
  {
   "cell_type": "markdown",
   "id": "34b1d36b",
   "metadata": {
    "pycharm": {
     "name": "#%% md\n"
    }
   },
   "source": [
    "## Task 5:"
   ]
  },
  {
   "cell_type": "markdown",
   "id": "bd31f029",
   "metadata": {
    "pycharm": {
     "name": "#%% md\n"
    }
   },
   "source": [
    "Вводиться число n. Вивести масив розміру n×n, в якому в рядках з парними індексами стоять 1, а в інших – 0."
   ]
  },
  {
   "cell_type": "code",
   "execution_count": 86,
   "id": "5dfafc0b",
   "metadata": {
    "pycharm": {
     "name": "#%%\n"
    }
   },
   "outputs": [
    {
     "name": "stdout",
     "output_type": "stream",
     "text": [
      "[[0 0 0 0 0 0 0]\n",
      " [1 1 1 1 1 1 1]\n",
      " [0 0 0 0 0 0 0]\n",
      " [1 1 1 1 1 1 1]\n",
      " [0 0 0 0 0 0 0]\n",
      " [1 1 1 1 1 1 1]]\n",
      "True\n",
      "5.5 µs ± 432 ns per loop (mean ± std. dev. of 10 runs, 100 loops each)\n",
      "1.65 ms ± 26.7 µs per loop (mean ± std. dev. of 10 runs, 100 loops each)\n"
     ]
    }
   ],
   "source": [
    "def task_5_numpy(n, m):\n",
    "    arr = np.zeros((n, m), dtype=int)\n",
    "    arr[1::2] = 1\n",
    "    return arr\n",
    "    \n",
    "def task_5_iterative(n, m):\n",
    "    return [[1 if i%2 else 0 for _ in range(0, m)] for i in range(0, n)]\n",
    "\n",
    "print(task_5_numpy(6, 7))\n",
    "print(np.array_equal(task_5_numpy(200, 300), task_5_iterative(200, 300)))\n",
    "\n",
    "%timeit -n 100 -r 10 task_5_numpy(200, 300)\n",
    "%timeit -n 100 -r 10 task_5_iterative(200, 300)"
   ]
  },
  {
   "cell_type": "markdown",
   "id": "9ee8cac7",
   "metadata": {
    "pycharm": {
     "name": "#%% md\n"
    }
   },
   "source": [
    "## Task 6:"
   ]
  },
  {
   "cell_type": "markdown",
   "id": "545ba798",
   "metadata": {
    "pycharm": {
     "name": "#%% md\n"
    }
   },
   "source": [
    "З клавіатури вводиться масив. Замінити всі ненульові елементи на –1."
   ]
  },
  {
   "cell_type": "code",
   "execution_count": 33,
   "id": "4faf3877",
   "metadata": {
    "pycharm": {
     "name": "#%%\n"
    },
    "scrolled": false
   },
   "outputs": [
    {
     "name": "stdout",
     "output_type": "stream",
     "text": [
      "True\n",
      "True\n",
      "3.59 µs ± 653 ns per loop (mean ± std. dev. of 10 runs, 100 loops each)\n",
      "35.2 µs ± 3.17 µs per loop (mean ± std. dev. of 10 runs, 100 loops each)\n"
     ]
    }
   ],
   "source": [
    "def task_6_numpy(array):\n",
    "    arr = np.array(array)\n",
    "    arr[arr != 0] = -1\n",
    "    return arr\n",
    "    \n",
    "def task_6_iterative(array):\n",
    "    for i in range(len(array)):\n",
    "        if array[i] != 0:\n",
    "            array[i] = -1\n",
    "    return array\n",
    "\n",
    "arr = np.arange(-100, 100)\n",
    "\n",
    "print(np.array_equal(task_6_numpy([1,0,2,0,3,0]), [-1,0,-1,0,-1,0]))\n",
    "print(np.array_equal(task_6_numpy(arr), task_6_iterative(arr)))\n",
    "\n",
    "%timeit -n 100 -r 10 task_6_numpy(arr)\n",
    "%timeit -n 100 -r 10 task_6_iterative(arr)"
   ]
  },
  {
   "cell_type": "markdown",
   "id": "62fce0e0",
   "metadata": {
    "pycharm": {
     "name": "#%% md\n"
    }
   },
   "source": [
    "## Task 7:"
   ]
  },
  {
   "cell_type": "markdown",
   "id": "ff6d1057",
   "metadata": {
    "pycharm": {
     "name": "#%% md\n"
    }
   },
   "source": [
    "З клавіатури вводиться масив. Замінити всі нульові елементи на –1."
   ]
  },
  {
   "cell_type": "code",
   "execution_count": 34,
   "id": "1455cc60",
   "metadata": {
    "pycharm": {
     "name": "#%%\n"
    }
   },
   "outputs": [
    {
     "name": "stdout",
     "output_type": "stream",
     "text": [
      "True\n",
      "True\n",
      "2.35 µs ± 1.25 µs per loop (mean ± std. dev. of 10 runs, 100 loops each)\n",
      "21.6 µs ± 1.67 µs per loop (mean ± std. dev. of 10 runs, 100 loops each)\n"
     ]
    }
   ],
   "source": [
    "def task_7_numpy(array):\n",
    "    arr = np.array(array)\n",
    "    arr[arr == 0] = -1\n",
    "    return arr\n",
    "    \n",
    "def task_7_iterative(array):\n",
    "    for i in range(len(array)):\n",
    "        if array[i] == 0:\n",
    "            array[i] = -1\n",
    "    return array\n",
    "\n",
    "arr = np.arange(-100, 100)\n",
    "\n",
    "print(np.array_equal(task_7_numpy([1,0,2,0,3,0]), [1,-1,2,-1,3,-1]))\n",
    "print(np.array_equal(task_7_numpy(arr), task_7_iterative(arr)))\n",
    "\n",
    "%timeit -n 100 -r 10 task_7_numpy(arr)\n",
    "%timeit -n 100 -r 10 task_7_iterative(arr)"
   ]
  },
  {
   "cell_type": "markdown",
   "id": "c26d4060",
   "metadata": {
    "pycharm": {
     "name": "#%% md\n"
    }
   },
   "source": [
    "## Task 8:"
   ]
  },
  {
   "cell_type": "markdown",
   "id": "dbc644e5",
   "metadata": {
    "pycharm": {
     "name": "#%% md\n"
    }
   },
   "source": [
    "З клавіатури вводиться масив. Підрахувати в ньому кількість нульових та ненульових елементів."
   ]
  },
  {
   "cell_type": "code",
   "execution_count": 89,
   "id": "556c2119",
   "metadata": {
    "pycharm": {
     "name": "#%%\n"
    }
   },
   "outputs": [
    {
     "name": "stdout",
     "output_type": "stream",
     "text": [
      "True\n",
      "True\n",
      "The slowest run took 4.23 times longer than the fastest. This could mean that an intermediate result is being cached.\n",
      "1.63 µs ± 896 ns per loop (mean ± std. dev. of 10 runs, 100 loops each)\n",
      "26.5 µs ± 1.18 µs per loop (mean ± std. dev. of 10 runs, 100 loops each)\n"
     ]
    }
   ],
   "source": [
    "def task_8_numpy(array):\n",
    "    arr = np.array(array)\n",
    "    nonzero_count = np.count_nonzero(arr)\n",
    "    return arr.size - nonzero_count, nonzero_count\n",
    "    \n",
    "def task_8_iterative(array):\n",
    "    nonzero_count = 0\n",
    "    for i in range(len(array)):\n",
    "        if array[i] != 0:\n",
    "            nonzero_count += 1\n",
    "    return len(array) - nonzero_count, nonzero_count\n",
    "\n",
    "arr = np.arange(-100, 100)\n",
    "\n",
    "print(np.array_equal(task_8_numpy([1,0,2,0,3,0,0]), (4, 3)))\n",
    "print(np.array_equal(task_8_numpy(arr), task_8_iterative(arr)))\n",
    "\n",
    "%timeit -n 100 -r 10 task_8_numpy(arr)\n",
    "%timeit -n 100 -r 10 task_8_iterative(arr)"
   ]
  },
  {
   "cell_type": "markdown",
   "id": "72beb68c",
   "metadata": {
    "pycharm": {
     "name": "#%% md\n"
    }
   },
   "source": [
    "## Task 9:"
   ]
  },
  {
   "cell_type": "markdown",
   "id": "b539f7d3",
   "metadata": {},
   "source": [
    "Вводиться число n. Створити масив значень від n до 0."
   ]
  },
  {
   "cell_type": "code",
   "execution_count": 90,
   "id": "3dbbdef6",
   "metadata": {
    "pycharm": {
     "name": "#%%\n"
    }
   },
   "outputs": [
    {
     "name": "stdout",
     "output_type": "stream",
     "text": [
      "True\n",
      "True\n",
      "The slowest run took 4.12 times longer than the fastest. This could mean that an intermediate result is being cached.\n",
      "764 ns ± 530 ns per loop (mean ± std. dev. of 10 runs, 100 loops each)\n",
      "3.07 µs ± 84.7 ns per loop (mean ± std. dev. of 10 runs, 100 loops each)\n"
     ]
    }
   ],
   "source": [
    "def task_9_numpy(n):\n",
    "    return np.arange(n, -1, -1)\n",
    "    \n",
    "def task_9_iterative(n):\n",
    "    return [i for i in range(n, -1, -1)]\n",
    "\n",
    "print(np.array_equal(task_9_numpy(5), [5,4,3,2,1,0]))\n",
    "print(np.array_equal(task_9_numpy(200), task_9_iterative(200)))\n",
    "\n",
    "%timeit -n 100 -r 10 task_9_numpy(200)\n",
    "%timeit -n 100 -r 10 task_9_iterative(200)"
   ]
  },
  {
   "cell_type": "markdown",
   "id": "247495ab",
   "metadata": {
    "pycharm": {
     "name": "#%% md\n"
    }
   },
   "source": [
    "## Task 13:"
   ]
  },
  {
   "cell_type": "markdown",
   "id": "fb29c35f",
   "metadata": {
    "pycharm": {
     "name": "#%% md\n"
    }
   },
   "source": [
    "Розмістити на полі 8×8 нулі та одиниці в шахматному порядку, використовуючи функцію повторення."
   ]
  },
  {
   "cell_type": "code",
   "execution_count": 91,
   "id": "1bd7cc6b",
   "metadata": {
    "pycharm": {
     "name": "#%%\n"
    }
   },
   "outputs": [
    {
     "name": "stdout",
     "output_type": "stream",
     "text": [
      "[[1 0 1 0 1 0 1 0]\n",
      " [0 1 0 1 0 1 0 1]\n",
      " [1 0 1 0 1 0 1 0]\n",
      " [0 1 0 1 0 1 0 1]\n",
      " [1 0 1 0 1 0 1 0]\n",
      " [0 1 0 1 0 1 0 1]\n",
      " [1 0 1 0 1 0 1 0]\n",
      " [0 1 0 1 0 1 0 1]]\n",
      "True\n",
      "3.34 µs ± 245 ns per loop (mean ± std. dev. of 10 runs, 100 loops each)\n",
      "5.01 µs ± 396 ns per loop (mean ± std. dev. of 10 runs, 100 loops each)\n"
     ]
    }
   ],
   "source": [
    "def task_13_numpy():\n",
    "    board = np.array([[1, 0] * 4, [0, 1] * 4] * 4, dtype=int)\n",
    "    return board\n",
    "\n",
    "def task_13_iterative():\n",
    "    board = [[None] * 8 for _ in range(8)]\n",
    "    for i in range(8):\n",
    "        for j in range(8):\n",
    "            if (i + j) % 2 == 0:\n",
    "                board[i][j] = 1\n",
    "            else:\n",
    "                board[i][j] = 0\n",
    "    return board\n",
    "\n",
    "print(task_13_numpy())\n",
    "print(np.array_equal(task_13_numpy(), task_13_iterative()))\n",
    "\n",
    "%timeit -n 100 -r 10 task_13_numpy()\n",
    "%timeit -n 100 -r 10 task_13_iterative()\n"
   ]
  },
  {
   "cell_type": "markdown",
   "id": "4c7f643b",
   "metadata": {
    "pycharm": {
     "name": "#%% md\n"
    }
   },
   "source": [
    "## Task 19:"
   ]
  },
  {
   "cell_type": "markdown",
   "id": "0c7fb9a5",
   "metadata": {
    "pycharm": {
     "name": "#%% md\n"
    }
   },
   "source": [
    "Згенерувати вектор із n елементів, що рівномірно розміщені на інтервалі (0,1) – тобто обидва кінці інтервалу не включені. Значення вивести до 3 знаків після коми."
   ]
  },
  {
   "cell_type": "code",
   "execution_count": 92,
   "id": "3d7fb0f7",
   "metadata": {
    "pycharm": {
     "name": "#%%\n"
    }
   },
   "outputs": [
    {
     "name": "stdout",
     "output_type": "stream",
     "text": [
      "[0.822 0.371 0.871 0.535 0.241 0.589 0.111 0.153 0.503 0.33 ]\n",
      "[0.644, 0.832, 0.359, 0.746, 0.223, 0.275, 0.466, 0.776, 0.693, 0.306]\n",
      "12.6 µs ± 822 ns per loop (mean ± std. dev. of 10 runs, 100 loops each)\n",
      "48 µs ± 963 ns per loop (mean ± std. dev. of 10 runs, 100 loops each)\n"
     ]
    }
   ],
   "source": [
    "def task_19_numpy(n):\n",
    "    vec = np.random.uniform(0, 1, n)\n",
    "    return np.around(vec, 3)\n",
    "\n",
    "def task_19_iterative(n):\n",
    "    vec = []\n",
    "    for i in range(n):\n",
    "        vec.append(round(random.uniform(0, 1), 3))\n",
    "    return vec\n",
    "\n",
    "print(task_19_numpy(10))\n",
    "print(task_19_iterative(10))\n",
    "\n",
    "%timeit -n 100 -r 10 task_19_numpy(100)\n",
    "%timeit -n 100 -r 10 task_19_iterative(100)"
   ]
  },
  {
   "cell_type": "code",
   "execution_count": null,
   "id": "57894294",
   "metadata": {
    "pycharm": {
     "name": "#%%\n"
    }
   },
   "outputs": [],
   "source": []
  }
 ],
 "metadata": {
  "kernelspec": {
   "display_name": "Python 3 (ipykernel)",
   "language": "python",
   "name": "python3"
  },
  "language_info": {
   "codemirror_mode": {
    "name": "ipython",
    "version": 3
   },
   "file_extension": ".py",
   "mimetype": "text/x-python",
   "name": "python",
   "nbconvert_exporter": "python",
   "pygments_lexer": "ipython3",
   "version": "3.10.11"
  },
  "vscode": {
   "interpreter": {
    "hash": "2fd32d8e905b54f1a1b6ecf586d723922048d49c6dae2d40ce18169fa81fbbfd"
   }
  }
 },
 "nbformat": 4,
 "nbformat_minor": 5
}